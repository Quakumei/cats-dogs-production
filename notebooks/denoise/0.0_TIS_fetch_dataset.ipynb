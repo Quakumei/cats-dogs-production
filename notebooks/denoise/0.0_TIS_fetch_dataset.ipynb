{
 "cells": [
  {
   "cell_type": "markdown",
   "metadata": {},
   "source": [
    "# Убираем шум с изображений с помощью автоэнкодеров\n",
    "\n",
    "![Схема - наглядно](https://miro.medium.com/v2/resize:fit:720/format:webp/0*qgxeODdkcdMIfR--.png)"
   ]
  },
  {
   "cell_type": "markdown",
   "metadata": {},
   "source": [
    "## Загрузим датасет\n",
    "\n",
    "В качестве датасета для обучения алгоритма будем использовать [SIDD](https://www.eecs.yorku.ca/~kamel/sidd/)"
   ]
  },
  {
   "cell_type": "code",
   "execution_count": 3,
   "metadata": {},
   "outputs": [],
   "source": [
    "# !kaggle competitions list\n",
    "DATA_PATH = \"../../data\"\n",
    "COMPETITION_FOLDER = \"denoise\"\n",
    "\n",
    "# 7GB https://www.kaggle.com/datasets/rajat95gupta/smartphone-image-denoising-dataset\n",
    "!kaggle datasets download -d rajat95gupta/smartphone-image-denoising-dataset -p {DATA_PATH}/raw/{COMPETITION_FOLDER} --force\\"
   ]
  },
  {
   "cell_type": "code",
   "execution_count": null,
   "metadata": {},
   "outputs": [],
   "source": [
    "!unzip -q {DATA_PATH}/raw/{COMPETITION_FOLDER}/smartphone-image-denoising-dataset.zip -d {DATA_PATH}/raw/{COMPETITION_FOLDER}"
   ]
  },
  {
   "cell_type": "code",
   "execution_count": null,
   "metadata": {},
   "outputs": [],
   "source": []
  },
  {
   "cell_type": "code",
   "execution_count": null,
   "metadata": {},
   "outputs": [],
   "source": [
    "# Model...\n",
    "import numpy as np # linear algebra\n",
    "import pandas as pd # data processing, CSV file I/O (e.g. pd.read_csv)\n",
    "import keras\n",
    "import gc\n",
    "import matplotlib.pyplot as plt\n",
    "from keras.utils import Sequence\n",
    "from keras.models import Model, Sequential\n",
    "from keras.layers import Dense, Input, Concatenate, Dropout\n",
    "\n",
    "# Check if keras uses GPU\n",
    "from tensorflow.python.client import device_lib\n",
    "print(device_lib.list_local_devices())"
   ]
  },
  {
   "cell_type": "code",
   "execution_count": null,
   "metadata": {},
   "outputs": [],
   "source": []
  }
 ],
 "metadata": {
  "kernelspec": {
   "display_name": "Python 3.11.0 64-bit",
   "language": "python",
   "name": "python3"
  },
  "language_info": {
   "codemirror_mode": {
    "name": "ipython",
    "version": 3
   },
   "file_extension": ".py",
   "mimetype": "text/x-python",
   "name": "python",
   "nbconvert_exporter": "python",
   "pygments_lexer": "ipython3",
   "version": "3.11.0"
  },
  "orig_nbformat": 4,
  "vscode": {
   "interpreter": {
    "hash": "de47f5c92c0ee6f12a59a5613ac5feff6aab19ddff207ba0b3964cced08c4ccc"
   }
  }
 },
 "nbformat": 4,
 "nbformat_minor": 2
}
